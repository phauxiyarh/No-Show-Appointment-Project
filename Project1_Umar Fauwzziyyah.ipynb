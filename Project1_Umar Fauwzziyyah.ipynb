{
 "cells": [
  {
   "cell_type": "markdown",
   "id": "70f31760",
   "metadata": {},
   "source": [
    "# **Project1**: No Show Appointment Dataset"
   ]
  },
  {
   "cell_type": "markdown",
   "id": "75a55661",
   "metadata": {},
   "source": [
    "## Introduction"
   ]
  },
  {
   "cell_type": "markdown",
   "id": "b1696b41",
   "metadata": {},
   "source": [
    ">**Data Description & Research Questions**\n",
    "\n",
    ">I will be using pandas package and matplotlib.\n",
    "The data set used is the Now Show Appointment Dataset, you can download it from this link \n",
    "https://d17h27t6h515a5.cloudfront.net/topher/2017/October/59dd2e9a_noshowappointments-kagglev2-may-2016/noshowappointments-kagglev2-may-2016.csv\n",
    "Our dataset for this analysis is from a hospital record which shows several variables including whether or not a patient showed up for their hospital appoinment. Our focus is to observe how the several factors interact and result to a patient absent or present for appointment. The data set cotains 14 columns however, we identified 7 research questions as listed below and only 5 columns **(Gender, Age, Scholarship, SMS_Recieve, Noshow)** will be useful to answer the research questions hence the remaining have been drop.\n",
    "\n",
    ">We will be exploring **7 research questions**. The questions are as follow: <br>\n",
    "**Question 1** - Does Patient Age Affect whether they show up for their appointment or Not? <br>\n",
    "**Question 2** - Does having Health Insurance affect why Patient show up for their appointment or not? <br> \n",
    "**Question 3** - Does the Gender of the Patient Affect why they show up or not for their appointment? <br>\n",
    "**Question 4** - Does Receiving SMS affect why patient show up or not for their appointment? <br> \n",
    "**Question 5** - How does Scholarship and Gender affect why patient show up or not for their appointment? <br>\n",
    "**Question 6** - How does SMS Received and Gender affect why patient show up or not for their appointment? <br>\n",
    "**Question 7** - How does Scholarship and SMS Received affect why patient show up or not for their appointment?"
   ]
  },
  {
   "cell_type": "markdown",
   "id": "b4c1d08a",
   "metadata": {},
   "source": [
    "## Data Wrangling"
   ]
  },
  {
   "cell_type": "code",
   "execution_count": 1,
   "id": "f29d8af5",
   "metadata": {},
   "outputs": [],
   "source": [
    "#import packages\n",
    "#load data\n",
    "import pandas as pd\n",
    "import numpy as np\n",
    "import matplotlib.pyplot as plt\n",
    "\n",
    "df_NSA= pd.read_csv('noshowappointments-kagglev2-may-2016.csv')"
   ]
  },
  {
   "cell_type": "code",
   "execution_count": 2,
   "id": "822fe897",
   "metadata": {},
   "outputs": [
    {
     "data": {
      "text/html": [
       "<div>\n",
       "<style scoped>\n",
       "    .dataframe tbody tr th:only-of-type {\n",
       "        vertical-align: middle;\n",
       "    }\n",
       "\n",
       "    .dataframe tbody tr th {\n",
       "        vertical-align: top;\n",
       "    }\n",
       "\n",
       "    .dataframe thead th {\n",
       "        text-align: right;\n",
       "    }\n",
       "</style>\n",
       "<table border=\"1\" class=\"dataframe\">\n",
       "  <thead>\n",
       "    <tr style=\"text-align: right;\">\n",
       "      <th></th>\n",
       "      <th>PatientId</th>\n",
       "      <th>AppointmentID</th>\n",
       "      <th>Gender</th>\n",
       "      <th>ScheduledDay</th>\n",
       "      <th>AppointmentDay</th>\n",
       "      <th>Age</th>\n",
       "      <th>Neighbourhood</th>\n",
       "      <th>Scholarship</th>\n",
       "      <th>Hipertension</th>\n",
       "      <th>Diabetes</th>\n",
       "      <th>Alcoholism</th>\n",
       "      <th>Handcap</th>\n",
       "      <th>SMS_received</th>\n",
       "      <th>No-show</th>\n",
       "    </tr>\n",
       "  </thead>\n",
       "  <tbody>\n",
       "    <tr>\n",
       "      <th>0</th>\n",
       "      <td>2.987250e+13</td>\n",
       "      <td>5642903</td>\n",
       "      <td>F</td>\n",
       "      <td>2016-04-29T18:38:08Z</td>\n",
       "      <td>2016-04-29T00:00:00Z</td>\n",
       "      <td>62</td>\n",
       "      <td>JARDIM DA PENHA</td>\n",
       "      <td>0</td>\n",
       "      <td>1</td>\n",
       "      <td>0</td>\n",
       "      <td>0</td>\n",
       "      <td>0</td>\n",
       "      <td>0</td>\n",
       "      <td>No</td>\n",
       "    </tr>\n",
       "    <tr>\n",
       "      <th>1</th>\n",
       "      <td>5.589978e+14</td>\n",
       "      <td>5642503</td>\n",
       "      <td>M</td>\n",
       "      <td>2016-04-29T16:08:27Z</td>\n",
       "      <td>2016-04-29T00:00:00Z</td>\n",
       "      <td>56</td>\n",
       "      <td>JARDIM DA PENHA</td>\n",
       "      <td>0</td>\n",
       "      <td>0</td>\n",
       "      <td>0</td>\n",
       "      <td>0</td>\n",
       "      <td>0</td>\n",
       "      <td>0</td>\n",
       "      <td>No</td>\n",
       "    </tr>\n",
       "    <tr>\n",
       "      <th>2</th>\n",
       "      <td>4.262962e+12</td>\n",
       "      <td>5642549</td>\n",
       "      <td>F</td>\n",
       "      <td>2016-04-29T16:19:04Z</td>\n",
       "      <td>2016-04-29T00:00:00Z</td>\n",
       "      <td>62</td>\n",
       "      <td>MATA DA PRAIA</td>\n",
       "      <td>0</td>\n",
       "      <td>0</td>\n",
       "      <td>0</td>\n",
       "      <td>0</td>\n",
       "      <td>0</td>\n",
       "      <td>0</td>\n",
       "      <td>No</td>\n",
       "    </tr>\n",
       "    <tr>\n",
       "      <th>3</th>\n",
       "      <td>8.679512e+11</td>\n",
       "      <td>5642828</td>\n",
       "      <td>F</td>\n",
       "      <td>2016-04-29T17:29:31Z</td>\n",
       "      <td>2016-04-29T00:00:00Z</td>\n",
       "      <td>8</td>\n",
       "      <td>PONTAL DE CAMBURI</td>\n",
       "      <td>0</td>\n",
       "      <td>0</td>\n",
       "      <td>0</td>\n",
       "      <td>0</td>\n",
       "      <td>0</td>\n",
       "      <td>0</td>\n",
       "      <td>No</td>\n",
       "    </tr>\n",
       "    <tr>\n",
       "      <th>4</th>\n",
       "      <td>8.841186e+12</td>\n",
       "      <td>5642494</td>\n",
       "      <td>F</td>\n",
       "      <td>2016-04-29T16:07:23Z</td>\n",
       "      <td>2016-04-29T00:00:00Z</td>\n",
       "      <td>56</td>\n",
       "      <td>JARDIM DA PENHA</td>\n",
       "      <td>0</td>\n",
       "      <td>1</td>\n",
       "      <td>1</td>\n",
       "      <td>0</td>\n",
       "      <td>0</td>\n",
       "      <td>0</td>\n",
       "      <td>No</td>\n",
       "    </tr>\n",
       "  </tbody>\n",
       "</table>\n",
       "</div>"
      ],
      "text/plain": [
       "      PatientId  AppointmentID Gender          ScheduledDay  \\\n",
       "0  2.987250e+13        5642903      F  2016-04-29T18:38:08Z   \n",
       "1  5.589978e+14        5642503      M  2016-04-29T16:08:27Z   \n",
       "2  4.262962e+12        5642549      F  2016-04-29T16:19:04Z   \n",
       "3  8.679512e+11        5642828      F  2016-04-29T17:29:31Z   \n",
       "4  8.841186e+12        5642494      F  2016-04-29T16:07:23Z   \n",
       "\n",
       "         AppointmentDay  Age      Neighbourhood  Scholarship  Hipertension  \\\n",
       "0  2016-04-29T00:00:00Z   62    JARDIM DA PENHA            0             1   \n",
       "1  2016-04-29T00:00:00Z   56    JARDIM DA PENHA            0             0   \n",
       "2  2016-04-29T00:00:00Z   62      MATA DA PRAIA            0             0   \n",
       "3  2016-04-29T00:00:00Z    8  PONTAL DE CAMBURI            0             0   \n",
       "4  2016-04-29T00:00:00Z   56    JARDIM DA PENHA            0             1   \n",
       "\n",
       "   Diabetes  Alcoholism  Handcap  SMS_received No-show  \n",
       "0         0           0        0             0      No  \n",
       "1         0           0        0             0      No  \n",
       "2         0           0        0             0      No  \n",
       "3         0           0        0             0      No  \n",
       "4         1           0        0             0      No  "
      ]
     },
     "execution_count": 2,
     "metadata": {},
     "output_type": "execute_result"
    }
   ],
   "source": [
    "#display the dataset\n",
    "df_NSA.head()"
   ]
  },
  {
   "cell_type": "code",
   "execution_count": 3,
   "id": "abd288c7",
   "metadata": {},
   "outputs": [
    {
     "data": {
      "text/plain": [
       "(110527, 14)"
      ]
     },
     "execution_count": 3,
     "metadata": {},
     "output_type": "execute_result"
    }
   ],
   "source": [
    "#size of the dataset\n",
    "df_NSA.shape"
   ]
  },
  {
   "cell_type": "code",
   "execution_count": 4,
   "id": "072cc9aa",
   "metadata": {},
   "outputs": [
    {
     "data": {
      "text/html": [
       "<div>\n",
       "<style scoped>\n",
       "    .dataframe tbody tr th:only-of-type {\n",
       "        vertical-align: middle;\n",
       "    }\n",
       "\n",
       "    .dataframe tbody tr th {\n",
       "        vertical-align: top;\n",
       "    }\n",
       "\n",
       "    .dataframe thead th {\n",
       "        text-align: right;\n",
       "    }\n",
       "</style>\n",
       "<table border=\"1\" class=\"dataframe\">\n",
       "  <thead>\n",
       "    <tr style=\"text-align: right;\">\n",
       "      <th></th>\n",
       "      <th>PatientId</th>\n",
       "      <th>AppointmentID</th>\n",
       "      <th>Age</th>\n",
       "      <th>Scholarship</th>\n",
       "      <th>Hipertension</th>\n",
       "      <th>Diabetes</th>\n",
       "      <th>Alcoholism</th>\n",
       "      <th>Handcap</th>\n",
       "      <th>SMS_received</th>\n",
       "    </tr>\n",
       "  </thead>\n",
       "  <tbody>\n",
       "    <tr>\n",
       "      <th>count</th>\n",
       "      <td>1.105270e+05</td>\n",
       "      <td>1.105270e+05</td>\n",
       "      <td>110527.000000</td>\n",
       "      <td>110527.000000</td>\n",
       "      <td>110527.000000</td>\n",
       "      <td>110527.000000</td>\n",
       "      <td>110527.000000</td>\n",
       "      <td>110527.000000</td>\n",
       "      <td>110527.000000</td>\n",
       "    </tr>\n",
       "    <tr>\n",
       "      <th>mean</th>\n",
       "      <td>1.474963e+14</td>\n",
       "      <td>5.675305e+06</td>\n",
       "      <td>37.088874</td>\n",
       "      <td>0.098266</td>\n",
       "      <td>0.197246</td>\n",
       "      <td>0.071865</td>\n",
       "      <td>0.030400</td>\n",
       "      <td>0.022248</td>\n",
       "      <td>0.321026</td>\n",
       "    </tr>\n",
       "    <tr>\n",
       "      <th>std</th>\n",
       "      <td>2.560949e+14</td>\n",
       "      <td>7.129575e+04</td>\n",
       "      <td>23.110205</td>\n",
       "      <td>0.297675</td>\n",
       "      <td>0.397921</td>\n",
       "      <td>0.258265</td>\n",
       "      <td>0.171686</td>\n",
       "      <td>0.161543</td>\n",
       "      <td>0.466873</td>\n",
       "    </tr>\n",
       "    <tr>\n",
       "      <th>min</th>\n",
       "      <td>3.921784e+04</td>\n",
       "      <td>5.030230e+06</td>\n",
       "      <td>-1.000000</td>\n",
       "      <td>0.000000</td>\n",
       "      <td>0.000000</td>\n",
       "      <td>0.000000</td>\n",
       "      <td>0.000000</td>\n",
       "      <td>0.000000</td>\n",
       "      <td>0.000000</td>\n",
       "    </tr>\n",
       "    <tr>\n",
       "      <th>25%</th>\n",
       "      <td>4.172614e+12</td>\n",
       "      <td>5.640286e+06</td>\n",
       "      <td>18.000000</td>\n",
       "      <td>0.000000</td>\n",
       "      <td>0.000000</td>\n",
       "      <td>0.000000</td>\n",
       "      <td>0.000000</td>\n",
       "      <td>0.000000</td>\n",
       "      <td>0.000000</td>\n",
       "    </tr>\n",
       "    <tr>\n",
       "      <th>50%</th>\n",
       "      <td>3.173184e+13</td>\n",
       "      <td>5.680573e+06</td>\n",
       "      <td>37.000000</td>\n",
       "      <td>0.000000</td>\n",
       "      <td>0.000000</td>\n",
       "      <td>0.000000</td>\n",
       "      <td>0.000000</td>\n",
       "      <td>0.000000</td>\n",
       "      <td>0.000000</td>\n",
       "    </tr>\n",
       "    <tr>\n",
       "      <th>75%</th>\n",
       "      <td>9.439172e+13</td>\n",
       "      <td>5.725524e+06</td>\n",
       "      <td>55.000000</td>\n",
       "      <td>0.000000</td>\n",
       "      <td>0.000000</td>\n",
       "      <td>0.000000</td>\n",
       "      <td>0.000000</td>\n",
       "      <td>0.000000</td>\n",
       "      <td>1.000000</td>\n",
       "    </tr>\n",
       "    <tr>\n",
       "      <th>max</th>\n",
       "      <td>9.999816e+14</td>\n",
       "      <td>5.790484e+06</td>\n",
       "      <td>115.000000</td>\n",
       "      <td>1.000000</td>\n",
       "      <td>1.000000</td>\n",
       "      <td>1.000000</td>\n",
       "      <td>1.000000</td>\n",
       "      <td>4.000000</td>\n",
       "      <td>1.000000</td>\n",
       "    </tr>\n",
       "  </tbody>\n",
       "</table>\n",
       "</div>"
      ],
      "text/plain": [
       "          PatientId  AppointmentID            Age    Scholarship  \\\n",
       "count  1.105270e+05   1.105270e+05  110527.000000  110527.000000   \n",
       "mean   1.474963e+14   5.675305e+06      37.088874       0.098266   \n",
       "std    2.560949e+14   7.129575e+04      23.110205       0.297675   \n",
       "min    3.921784e+04   5.030230e+06      -1.000000       0.000000   \n",
       "25%    4.172614e+12   5.640286e+06      18.000000       0.000000   \n",
       "50%    3.173184e+13   5.680573e+06      37.000000       0.000000   \n",
       "75%    9.439172e+13   5.725524e+06      55.000000       0.000000   \n",
       "max    9.999816e+14   5.790484e+06     115.000000       1.000000   \n",
       "\n",
       "        Hipertension       Diabetes     Alcoholism        Handcap  \\\n",
       "count  110527.000000  110527.000000  110527.000000  110527.000000   \n",
       "mean        0.197246       0.071865       0.030400       0.022248   \n",
       "std         0.397921       0.258265       0.171686       0.161543   \n",
       "min         0.000000       0.000000       0.000000       0.000000   \n",
       "25%         0.000000       0.000000       0.000000       0.000000   \n",
       "50%         0.000000       0.000000       0.000000       0.000000   \n",
       "75%         0.000000       0.000000       0.000000       0.000000   \n",
       "max         1.000000       1.000000       1.000000       4.000000   \n",
       "\n",
       "        SMS_received  \n",
       "count  110527.000000  \n",
       "mean        0.321026  \n",
       "std         0.466873  \n",
       "min         0.000000  \n",
       "25%         0.000000  \n",
       "50%         0.000000  \n",
       "75%         1.000000  \n",
       "max         1.000000  "
      ]
     },
     "execution_count": 4,
     "metadata": {},
     "output_type": "execute_result"
    }
   ],
   "source": [
    "#descriptive statistics of each column\n",
    "df_NSA.describe()"
   ]
  },
  {
   "cell_type": "code",
   "execution_count": 5,
   "id": "6e491ba8",
   "metadata": {},
   "outputs": [
    {
     "data": {
      "text/plain": [
       "PatientId         float64\n",
       "AppointmentID       int64\n",
       "Gender             object\n",
       "ScheduledDay       object\n",
       "AppointmentDay     object\n",
       "Age                 int64\n",
       "Neighbourhood      object\n",
       "Scholarship         int64\n",
       "Hipertension        int64\n",
       "Diabetes            int64\n",
       "Alcoholism          int64\n",
       "Handcap             int64\n",
       "SMS_received        int64\n",
       "No-show            object\n",
       "dtype: object"
      ]
     },
     "execution_count": 5,
     "metadata": {},
     "output_type": "execute_result"
    }
   ],
   "source": [
    "#datatypes of the column\n",
    "df_NSA.dtypes"
   ]
  },
  {
   "cell_type": "code",
   "execution_count": 6,
   "id": "b69efb58",
   "metadata": {},
   "outputs": [
    {
     "name": "stdout",
     "output_type": "stream",
     "text": [
      "<class 'pandas.core.frame.DataFrame'>\n",
      "RangeIndex: 110527 entries, 0 to 110526\n",
      "Data columns (total 14 columns):\n",
      " #   Column          Non-Null Count   Dtype  \n",
      "---  ------          --------------   -----  \n",
      " 0   PatientId       110527 non-null  float64\n",
      " 1   AppointmentID   110527 non-null  int64  \n",
      " 2   Gender          110527 non-null  object \n",
      " 3   ScheduledDay    110527 non-null  object \n",
      " 4   AppointmentDay  110527 non-null  object \n",
      " 5   Age             110527 non-null  int64  \n",
      " 6   Neighbourhood   110527 non-null  object \n",
      " 7   Scholarship     110527 non-null  int64  \n",
      " 8   Hipertension    110527 non-null  int64  \n",
      " 9   Diabetes        110527 non-null  int64  \n",
      " 10  Alcoholism      110527 non-null  int64  \n",
      " 11  Handcap         110527 non-null  int64  \n",
      " 12  SMS_received    110527 non-null  int64  \n",
      " 13  No-show         110527 non-null  object \n",
      "dtypes: float64(1), int64(8), object(5)\n",
      "memory usage: 11.8+ MB\n"
     ]
    }
   ],
   "source": [
    "#summary of the data set\n",
    "df_NSA.info()"
   ]
  },
  {
   "cell_type": "code",
   "execution_count": 7,
   "id": "2379960d",
   "metadata": {},
   "outputs": [],
   "source": [
    "#drop column in the datset that wont be used\n",
    "df_NSA.drop(['PatientId','AppointmentID','ScheduledDay','AppointmentDay','Hipertension','Diabetes','Alcoholism','Handcap','Neighbourhood'],axis=1,inplace=True)\n"
   ]
  },
  {
   "cell_type": "code",
   "execution_count": 8,
   "id": "52846ecb",
   "metadata": {},
   "outputs": [],
   "source": [
    "#rename the column No-show\n",
    "df_NSA.rename(columns={\"No-show\": \"Noshow\"},inplace=True)\n"
   ]
  },
  {
   "cell_type": "code",
   "execution_count": 9,
   "id": "97624353",
   "metadata": {},
   "outputs": [
    {
     "data": {
      "text/html": [
       "<div>\n",
       "<style scoped>\n",
       "    .dataframe tbody tr th:only-of-type {\n",
       "        vertical-align: middle;\n",
       "    }\n",
       "\n",
       "    .dataframe tbody tr th {\n",
       "        vertical-align: top;\n",
       "    }\n",
       "\n",
       "    .dataframe thead th {\n",
       "        text-align: right;\n",
       "    }\n",
       "</style>\n",
       "<table border=\"1\" class=\"dataframe\">\n",
       "  <thead>\n",
       "    <tr style=\"text-align: right;\">\n",
       "      <th></th>\n",
       "      <th>Gender</th>\n",
       "      <th>Age</th>\n",
       "      <th>Scholarship</th>\n",
       "      <th>SMS_received</th>\n",
       "      <th>Noshow</th>\n",
       "    </tr>\n",
       "  </thead>\n",
       "  <tbody>\n",
       "    <tr>\n",
       "      <th>0</th>\n",
       "      <td>F</td>\n",
       "      <td>62</td>\n",
       "      <td>0</td>\n",
       "      <td>0</td>\n",
       "      <td>No</td>\n",
       "    </tr>\n",
       "    <tr>\n",
       "      <th>1</th>\n",
       "      <td>M</td>\n",
       "      <td>56</td>\n",
       "      <td>0</td>\n",
       "      <td>0</td>\n",
       "      <td>No</td>\n",
       "    </tr>\n",
       "    <tr>\n",
       "      <th>2</th>\n",
       "      <td>F</td>\n",
       "      <td>62</td>\n",
       "      <td>0</td>\n",
       "      <td>0</td>\n",
       "      <td>No</td>\n",
       "    </tr>\n",
       "    <tr>\n",
       "      <th>3</th>\n",
       "      <td>F</td>\n",
       "      <td>8</td>\n",
       "      <td>0</td>\n",
       "      <td>0</td>\n",
       "      <td>No</td>\n",
       "    </tr>\n",
       "    <tr>\n",
       "      <th>4</th>\n",
       "      <td>F</td>\n",
       "      <td>56</td>\n",
       "      <td>0</td>\n",
       "      <td>0</td>\n",
       "      <td>No</td>\n",
       "    </tr>\n",
       "  </tbody>\n",
       "</table>\n",
       "</div>"
      ],
      "text/plain": [
       "  Gender  Age  Scholarship  SMS_received Noshow\n",
       "0      F   62            0             0     No\n",
       "1      M   56            0             0     No\n",
       "2      F   62            0             0     No\n",
       "3      F    8            0             0     No\n",
       "4      F   56            0             0     No"
      ]
     },
     "execution_count": 9,
     "metadata": {},
     "output_type": "execute_result"
    }
   ],
   "source": [
    "df_NSA.head()"
   ]
  },
  {
   "cell_type": "code",
   "execution_count": 10,
   "id": "03fa1a3d",
   "metadata": {},
   "outputs": [],
   "source": [
    "#convert the column no show to int \n",
    "def convert_noShow(df_NSA):\n",
    "    if df_NSA['Noshow'] == 'No':\n",
    "        return 1\n",
    "    return 0\n",
    "df_NSA['Numshow'] = df_NSA.apply(lambda x : convert_noShow(x),axis = 1)\n"
   ]
  },
  {
   "cell_type": "code",
   "execution_count": 11,
   "id": "07ac176b",
   "metadata": {},
   "outputs": [
    {
     "data": {
      "text/html": [
       "<div>\n",
       "<style scoped>\n",
       "    .dataframe tbody tr th:only-of-type {\n",
       "        vertical-align: middle;\n",
       "    }\n",
       "\n",
       "    .dataframe tbody tr th {\n",
       "        vertical-align: top;\n",
       "    }\n",
       "\n",
       "    .dataframe thead th {\n",
       "        text-align: right;\n",
       "    }\n",
       "</style>\n",
       "<table border=\"1\" class=\"dataframe\">\n",
       "  <thead>\n",
       "    <tr style=\"text-align: right;\">\n",
       "      <th></th>\n",
       "      <th>Gender</th>\n",
       "      <th>Age</th>\n",
       "      <th>Scholarship</th>\n",
       "      <th>SMS_received</th>\n",
       "      <th>Noshow</th>\n",
       "      <th>Numshow</th>\n",
       "    </tr>\n",
       "  </thead>\n",
       "  <tbody>\n",
       "    <tr>\n",
       "      <th>0</th>\n",
       "      <td>F</td>\n",
       "      <td>62</td>\n",
       "      <td>0</td>\n",
       "      <td>0</td>\n",
       "      <td>No</td>\n",
       "      <td>1</td>\n",
       "    </tr>\n",
       "    <tr>\n",
       "      <th>1</th>\n",
       "      <td>M</td>\n",
       "      <td>56</td>\n",
       "      <td>0</td>\n",
       "      <td>0</td>\n",
       "      <td>No</td>\n",
       "      <td>1</td>\n",
       "    </tr>\n",
       "    <tr>\n",
       "      <th>2</th>\n",
       "      <td>F</td>\n",
       "      <td>62</td>\n",
       "      <td>0</td>\n",
       "      <td>0</td>\n",
       "      <td>No</td>\n",
       "      <td>1</td>\n",
       "    </tr>\n",
       "    <tr>\n",
       "      <th>3</th>\n",
       "      <td>F</td>\n",
       "      <td>8</td>\n",
       "      <td>0</td>\n",
       "      <td>0</td>\n",
       "      <td>No</td>\n",
       "      <td>1</td>\n",
       "    </tr>\n",
       "    <tr>\n",
       "      <th>4</th>\n",
       "      <td>F</td>\n",
       "      <td>56</td>\n",
       "      <td>0</td>\n",
       "      <td>0</td>\n",
       "      <td>No</td>\n",
       "      <td>1</td>\n",
       "    </tr>\n",
       "  </tbody>\n",
       "</table>\n",
       "</div>"
      ],
      "text/plain": [
       "  Gender  Age  Scholarship  SMS_received Noshow  Numshow\n",
       "0      F   62            0             0     No        1\n",
       "1      M   56            0             0     No        1\n",
       "2      F   62            0             0     No        1\n",
       "3      F    8            0             0     No        1\n",
       "4      F   56            0             0     No        1"
      ]
     },
     "execution_count": 11,
     "metadata": {},
     "output_type": "execute_result"
    }
   ],
   "source": [
    "df_NSA.head()"
   ]
  },
  {
   "cell_type": "code",
   "execution_count": 12,
   "id": "65efb47a",
   "metadata": {},
   "outputs": [
    {
     "name": "stdout",
     "output_type": "stream",
     "text": [
      "<class 'pandas.core.frame.DataFrame'>\n",
      "RangeIndex: 110527 entries, 0 to 110526\n",
      "Data columns (total 6 columns):\n",
      " #   Column        Non-Null Count   Dtype \n",
      "---  ------        --------------   ----- \n",
      " 0   Gender        110527 non-null  object\n",
      " 1   Age           110527 non-null  int64 \n",
      " 2   Scholarship   110527 non-null  int64 \n",
      " 3   SMS_received  110527 non-null  int64 \n",
      " 4   Noshow        110527 non-null  object\n",
      " 5   Numshow       110527 non-null  int64 \n",
      "dtypes: int64(4), object(2)\n",
      "memory usage: 5.1+ MB\n"
     ]
    }
   ],
   "source": [
    "df_NSA.info()"
   ]
  },
  {
   "cell_type": "code",
   "execution_count": 13,
   "id": "828bf262",
   "metadata": {
    "scrolled": true
   },
   "outputs": [
    {
     "data": {
      "image/png": "[encoded data removed]",
      "text/plain": [
       "<Figure size 576x576 with 4 Axes>"
      ]
     },
     "metadata": {
      "needs_background": "light"
     },
     "output_type": "display_data"
    }
   ],
   "source": [
    "df_NSA.hist(figsize=(8,8));"
   ]
  },
  {
   "cell_type": "markdown",
   "id": "3dc3def9",
   "metadata": {},
   "source": [
    "> During the **Data Wrangling Stage**, the information of the data set was checked to know if they is any null value and none was found. We also checked the data types of each column. The No-show column was renamed to Noshow and a function was created to change the type to integer and store it in a new column named Numshow.\n",
    "\n",
    ">9 column was dropped and we were left with 5 columns which is significant in solving our research questions"
   ]
  },
  {
   "cell_type": "markdown",
   "id": "a3aba589",
   "metadata": {},
   "source": [
    "# EXPLORATORY ANALYSIS"
   ]
  },
  {
   "cell_type": "code",
   "execution_count": 14,
   "id": "09291111",
   "metadata": {},
   "outputs": [],
   "source": [
    "#Num show is dependent variable and the rest are independent\n",
    "#mask for rows if the patient showed up or not\n",
    "\n",
    "show=df_NSA.Numshow == True\n",
    "noshow=df_NSA.Numshow == False"
   ]
  },
  {
   "cell_type": "code",
   "execution_count": 15,
   "id": "09ece6f1",
   "metadata": {},
   "outputs": [
    {
     "data": {
      "text/plain": [
       "37.790064393252315"
      ]
     },
     "execution_count": 15,
     "metadata": {},
     "output_type": "execute_result"
    }
   ],
   "source": [
    "#mean of the age of does who showed up, the mean is higher than does who didnt\n",
    "df_NSA.Age[show].mean()"
   ]
  },
  {
   "cell_type": "code",
   "execution_count": 16,
   "id": "022a0d60",
   "metadata": {
    "scrolled": true
   },
   "outputs": [
    {
     "data": {
      "text/plain": [
       "34.31766656212196"
      ]
     },
     "execution_count": 16,
     "metadata": {},
     "output_type": "execute_result"
    }
   ],
   "source": [
    "#mean of the age of does who didnt show up, it is lower than does who showed up\n",
    "df_NSA.Age[noshow].mean()"
   ]
  },
  {
   "cell_type": "markdown",
   "id": "a6a57d83",
   "metadata": {},
   "source": [
    "### Generic Function for displaying Chart using mask"
   ]
  },
  {
   "cell_type": "code",
   "execution_count": 17,
   "id": "f8f90457",
   "metadata": {},
   "outputs": [],
   "source": [
    "def show_chart(data, mask1, mask2, color1, color2, label1, label2, title, xlabel, ylabel):\n",
    "    data[mask1].hist(alpha=0.5, bins=15, color=color1,label=label1)\n",
    "    data[mask2].hist(alpha=0.5, bins=15, color=color2,label=label2)\n",
    "    plt.legend()\n",
    "    plt.title(title)\n",
    "    plt.xlabel(xlabel)\n",
    "    plt.ylabel(ylabel)"
   ]
  },
  {
   "cell_type": "markdown",
   "id": "115e0489",
   "metadata": {},
   "source": [
    "### Q1- Does Patient Age Affect whether they show up for their appointment or Not?"
   ]
  },
  {
   "cell_type": "code",
   "execution_count": 18,
   "id": "bff8ac8e",
   "metadata": {
    "scrolled": true
   },
   "outputs": [
    {
     "data": {
      "image/png": "[encoded data removed]",
      "text/plain": [
       "<Figure size 432x288 with 1 Axes>"
      ]
     },
     "metadata": {
      "needs_background": "light"
     },
     "output_type": "display_data"
    }
   ],
   "source": [
    "#visualized the age based on does who showed up or not.\n",
    "#the younger age group show up more \n",
    "\n",
    "\n",
    "\n",
    "show_chart(df_NSA.Age, show, noshow, 'pink', 'purple', 'Showed Up', 'Didn\\'t Show Up', 'Patient & Age','Age', 'Population')\n",
    "    \n",
    "# df_NSA.Age[show].hist(alpha=0.5, bins=15, color='pink',label='Showed Up')\n",
    "# df_NSA.Age[noshow].hist(alpha=0.5, bins=15,color='purple', label='Didnt Show Up')\n",
    "# plt.legend();\n",
    "# plt.title('Patient and Age')\n",
    "# plt.xlabel('Age')\n",
    "# plt.ylabel('Population')\n"
   ]
  },
  {
   "cell_type": "markdown",
   "id": "9ec93a3b",
   "metadata": {},
   "source": [
    ">Distribution of Patient who showed up for their appointment based on their ages, a histogram was used to visualize the distribution.\n",
    "It Shows that the younger patient showed up for their appointment than the Older Patient. This visualization helps us know if the patients age affect why they show up or not"
   ]
  },
  {
   "cell_type": "markdown",
   "id": "e3d7eb64",
   "metadata": {},
   "source": [
    "### Q2- Does having Health Insurance affect why Patient show up for their appointment or not?"
   ]
  },
  {
   "cell_type": "code",
   "execution_count": 19,
   "id": "a1d8efcc",
   "metadata": {},
   "outputs": [
    {
     "data": {
      "image/png": "[encoded data removed]",
      "text/plain": [
       "<Figure size 432x288 with 1 Axes>"
      ]
     },
     "metadata": {
      "needs_background": "light"
     },
     "output_type": "display_data"
    }
   ],
   "source": [
    "#groupby Scholarship\n",
    "#does without scholarship showed up more than does with scholarship\n",
    "##df_NSA.groupby('Scholarship').Numshow.mean().plot(kind= 'bar');\n",
    "#distiribution of patient based on their health Insurance to know who showed up more\n",
    "# df_NSA.Scholarship[show].hist(alpha=0.5, bins=15, color='pink',label='Showed Up')\n",
    "# df_NSA.Scholarship[noshow].hist(alpha=0.5, bins=15,color='purple', label='Didnt Show Up')\n",
    "# plt.legend();\n",
    "# plt.title('Health Insurance and Patient')\n",
    "# #titling x axis\n",
    "# plt.xlabel('Health Insurance')\n",
    "# plt.ylabel('Population');\n",
    "\n",
    "\n",
    "show_chart(df_NSA.Scholarship, show, noshow, 'pink', 'purple', 'Showed Up', 'Didn\\'t Show Up', 'Patient & Health Insurance','Health Insurance', 'Population')\n",
    "    "
   ]
  },
  {
   "cell_type": "markdown",
   "id": "99ded5b6",
   "metadata": {},
   "source": [
    "> Distribution of Patient who showed up for their appointment based on their Health Insurance, a histogram was used to visualize the distribution.\n",
    "It Shows that Patient without health insurance showed up than those without health insurance. This visualization helps us know if the patients status of health insurance affect why they show up or not,from this we can say it does not affect why they show up or not for their appointment"
   ]
  },
  {
   "cell_type": "markdown",
   "id": "23a7238e",
   "metadata": {},
   "source": [
    "### Q3- Does the Gender of the Patient Affect why they show up or not for their appointment?"
   ]
  },
  {
   "cell_type": "code",
   "execution_count": 20,
   "id": "45ffd85f",
   "metadata": {},
   "outputs": [
    {
     "data": {
      "text/plain": [
       "F    71840\n",
       "M    38687\n",
       "Name: Gender, dtype: int64"
      ]
     },
     "execution_count": 20,
     "metadata": {},
     "output_type": "execute_result"
    },
    {
     "data": {
      "image/png": "[encoded data removed]",
      "text/plain": [
       "<Figure size 432x288 with 1 Axes>"
      ]
     },
     "metadata": {
      "needs_background": "light"
     },
     "output_type": "display_data"
    }
   ],
   "source": [
    "#distiribution of patient based on their gender to know who showed up more\n",
    "# df_NSA.Gender[show].hist(alpha=0.5, bins=15, color='pink', label='Showed Up')\n",
    "# df_NSA.Gender[noshow].hist(alpha=0.5, bins=15, color='purple', label='Didnt Show Up')\n",
    "# plt.legend();\n",
    "# plt.title('Gender and Patient')\n",
    "# plt.xlabel('Gender')\n",
    "# plt.ylabel('Population')\n",
    "\n",
    "show_chart(df_NSA.Gender, show, noshow, 'pink', 'purple', 'Showed Up', 'Didn\\'t Show Up', 'Patient & Gender','Gender', 'Population')\n",
    "    \n",
    "df_NSA.Gender.value_counts()"
   ]
  },
  {
   "cell_type": "markdown",
   "id": "01f44512",
   "metadata": {},
   "source": [
    "> Distribution of Patient who showed up for their appointment based on their Gender, a histogram was used to visualize the distribution.\n",
    "It Shows that Female Patient showed up than the male patient. Though the number of female patient are more than the male patient.\n",
    "This visualization helps us know that female patient showed up more than the male patient "
   ]
  },
  {
   "cell_type": "markdown",
   "id": "751f6059",
   "metadata": {},
   "source": [
    "### Q4- Does Receiving SMS affect why patient show up or not for their appointment?"
   ]
  },
  {
   "cell_type": "code",
   "execution_count": 21,
   "id": "c86a8a65",
   "metadata": {},
   "outputs": [
    {
     "data": {
      "image/png": "[encoded data removed]",
      "text/plain": [
       "<Figure size 432x288 with 1 Axes>"
      ]
     },
     "metadata": {
      "needs_background": "light"
     },
     "output_type": "display_data"
    }
   ],
   "source": [
    "# df_NSA.SMS_received[show].value_counts().plot(kind='bar',alpha=0.5,color='pink',label='Showed up')\n",
    "# df_NSA.SMS_received[noshow].value_counts().plot(kind='bar',alpha=0.5, color= 'purple', label='Didnt Show Up')\n",
    "# plt.legend();\n",
    "# plt.title('SMS Received and Patient')\n",
    "# plt.xlabel('Recieved SMS')\n",
    "# plt.ylabel('Population');\n",
    "\n",
    "show_chart(df_NSA.SMS_received, show, noshow, 'pink', 'purple', 'Showed Up', 'Didn\\'t Show Up', 'Patient & SMS_Received','SMS_RECEIVED', 'Population')\n",
    "    \n"
   ]
  },
  {
   "cell_type": "markdown",
   "id": "f7013bd5",
   "metadata": {},
   "source": [
    "> Distribution of Patient who showed up for their appointment based on them receiving SMS, a bar chart was used to visualize the distribution.\n",
    "It Shows that Patient who did not receive sms showed up for their appointment than the patient who recieved sms. we can say not receiving sms is not the reason why the patients are not showing up"
   ]
  },
  {
   "cell_type": "markdown",
   "id": "c2fec752",
   "metadata": {},
   "source": [
    "### Q5- How does Scholarship and Gender affect why patient show up or not for their appointment?"
   ]
  },
  {
   "cell_type": "code",
   "execution_count": 22,
   "id": "59232d9b",
   "metadata": {},
   "outputs": [
    {
     "data": {
      "image/png": "[encoded data removed]",
      "text/plain": [
       "<Figure size 432x288 with 1 Axes>"
      ]
     },
     "metadata": {
      "needs_background": "light"
     },
     "output_type": "display_data"
    }
   ],
   "source": [
    "#no strong relationship between gender,scholarship and the number of patient showing up\n",
    "\n",
    "\n",
    "df_NSA.groupby(['Scholarship', 'Gender']).Numshow.mean().plot(kind='bar');\n",
    "\n",
    "plt.title('Relationship Betwen HealthInsurance,Gender and Patient')\n",
    "plt.xlabel('Health Insurance,Gender')\n",
    "plt.ylabel('Population');\n"
   ]
  },
  {
   "cell_type": "markdown",
   "id": "3521b13b",
   "metadata": {},
   "source": [
    "> Gender and Health Insurance was grouped together to help us check if the two factor affects the number of Patient who showed up for their appointment or do not show up for their appointment. We explored the grouped data by checking if it affects the mean  number of patient who showed up for their appointmentS or not, we can see from the bar chart that it does not have an effect on why the patient showed up for their appoinment or otherwise."
   ]
  },
  {
   "cell_type": "markdown",
   "id": "4e818298",
   "metadata": {},
   "source": [
    "### Q6- How does SMS Received and Gender affect why patient show up or not for their appointment?"
   ]
  },
  {
   "cell_type": "code",
   "execution_count": 23,
   "id": "5291adec",
   "metadata": {},
   "outputs": [
    {
     "data": {
      "image/png": "[encoded data removed]",
      "text/plain": [
       "<Figure size 432x288 with 1 Axes>"
      ]
     },
     "metadata": {
      "needs_background": "light"
     },
     "output_type": "display_data"
    }
   ],
   "source": [
    "df_NSA.groupby([ 'Gender','SMS_received']).Numshow.mean().plot(kind='bar');\n",
    "\n",
    "plt.title('Relationship Betwen SMS_Received,Gender and Patient')\n",
    "plt.xlabel('Gender,SMS_Received') \n",
    "plt.ylabel('Population');"
   ]
  },
  {
   "cell_type": "markdown",
   "id": "7608391e",
   "metadata": {},
   "source": [
    "> Gender and SMS Recevied was grouped together to help us check if the two factor affects the number of Patient who showed up for their appointment or do not show up for their appointment,from the bar chart used for visulaization it shows that more patients who did not receive SMS showed up for their appointment irrespective of their gender."
   ]
  },
  {
   "cell_type": "markdown",
   "id": "485ab4cc",
   "metadata": {},
   "source": [
    "### Q7- How does Scholarship and SMS Received affect why patient show up or not for their appointment?"
   ]
  },
  {
   "cell_type": "code",
   "execution_count": 24,
   "id": "f3573c88",
   "metadata": {},
   "outputs": [
    {
     "data": {
      "image/png": "[encoded data removed]",
      "text/plain": [
       "<Figure size 432x288 with 1 Axes>"
      ]
     },
     "metadata": {
      "needs_background": "light"
     },
     "output_type": "display_data"
    }
   ],
   "source": [
    "\n",
    "df_NSA.groupby([ 'SMS_received','Scholarship']).Numshow.mean().plot(kind='bar');\n",
    "\n",
    "plt.title('Relationship Betwen HealthInsurance,SMS_Received and Patient')\n",
    "plt.xlabel('Scholarship,SMS_Received')\n",
    "plt.ylabel('Population');"
   ]
  },
  {
   "cell_type": "markdown",
   "id": "6e0aa881",
   "metadata": {},
   "source": [
    "> SMS Received and Scholarship was grouped together to help us check the relationship. it is clear that more patients who did not receive SMS showed up for their appointment and health insurance does not affect whether they  show up or not."
   ]
  },
  {
   "cell_type": "markdown",
   "id": "632eef42",
   "metadata": {},
   "source": [
    "<a id='conclusions'></a>\n",
    "## Conclusions\n",
    "\n",
    "> **Results:**, We observed the following from our dataset <br> \n",
    ">1. It Shows that the younger patient generally showed up for their appointment than the older patient\n",
    ">2. The health insurance factor does not affect patients presents or absents during appointment\n",
    ">3. It is clear that female patients showed up more for their appointment than male patients\n",
    ">4. No relationship between patient receiving sms and showing up\n",
    ">5. Irrespective of Gender, having health insurance does not shange why patient are absent or present\n",
    ">6. Patient who didnt not receive sms showed up more than does who received sms irrespective of their gender\n",
    ">7. Health Insurance has no effect on effect on why patient are prensent or absent and does who didnt receive sms showed up more.\n",
    "\n",
    "\n",
    "> **Limitation:**, Our observed limitation includes <br> \n",
    ">1. Patient Noshow column has to be converted to int because it was an object \n",
    ">2. Ages of the Patient needs to be categorized \n",
    "\n",
    ">In general,grouping by 3 factors will make the result more difficult to differentiate the relationship, as using one factor shows better understanding of the dataset than that of the two factors relationship.\n",
    " \n",
    "\n",
    "<div class=\"alert alert-block alert-success\">\n",
    "<b>Finally:</b> We were able to explore 7 research questions <br> \n",
    "\n",
    "</div>\n"
   ]
  },
  {
   "cell_type": "markdown",
   "id": "e588d1b4",
   "metadata": {},
   "source": [
    "\n",
    "## References\n",
    "> [1] ‘pandas documentation — pandas 1.4.2 documentation’. https://pandas.pydata.org/pandas-docs/stable/index.html (accessed May 28, 2022). <br>[2] W. McKinney, Python for data analysis: data wrangling with pandas, NumPy, and IPython, Second edition. Sebastopol, California: O’Reilly Media, Inc, 2018. <br> [3] ‘IBM Docs’, Apr. 08, 2021. https://www.ibm.com/docs/en/watson-studio-local/1.2.3?topic=notebooks-markdown-jupyter-cheatsheet (accessed May 29, 2022)."
   ]
  },
  {
   "cell_type": "code",
   "execution_count": null,
   "id": "4c625fc2",
   "metadata": {},
   "outputs": [],
   "source": []
  }
 ],
 "metadata": {
  "kernelspec": {
   "display_name": "Python 3 (ipykernel)",
   "language": "python",
   "name": "python3"
  },
  "language_info": {
   "codemirror_mode": {
    "name": "ipython",
    "version": 3
   },
   "file_extension": ".py",
   "mimetype": "text/x-python",
   "name": "python",
   "nbconvert_exporter": "python",
   "pygments_lexer": "ipython3",
   "version": "3.9.12"
  }
 },
 "nbformat": 4,
 "nbformat_minor": 5
}
